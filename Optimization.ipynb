{
 "cells": [
  {
   "cell_type": "markdown",
   "metadata": {},
   "source": [
    "# Optimization Problem\n",
    "\n",
    "The IAA Automobile company produces four types of cars (subcompact, compact, intermediate and luxury) and trucks and vans.  Vendor capacities limit the total production (on all cars, trucks and vans) to 1.2 million vehicles per year.  \n",
    "\n",
    "\n",
    "\n",
    "Subcompacts and compacts are built together in a facility with total capacity of 620,000.\n",
    "\n",
    "Intermediate and luxury cars are built together in a facility with total capacity of 400,000.\n",
    "\n",
    "Trucks and vans are built together in a facility with total capacity of 275,000.\n",
    "\n",
    "IAA's marketing strategy requires that subcompacts and compacts constitute AT LEAST HALF of the four car types (note that this is for CARS only!!).\n",
    "\n",
    "The corporate Average Fuel Economy standards require an average fuel economy of at least 27 mpg.\n",
    "\n",
    "The goal is to maximize the profit.\n",
    "\n",
    "Additional information is shown in table below:\n",
    "\n",
    "| Type | Profit ($/vehicle) | Market Potential | Fuel Economy (mpg) |\n",
    "| --- | --- | --- | --- |\n",
    "| subcompact | 150 | 600 | 40 |\n",
    "| compact | 225 | 400 | 34 |\n",
    "| intermediate | 250 | 300 | 15 |\n",
    "| luxury | 500 | 225 | 12 |\n",
    "| truck | 400 | 325 | 20 |\n",
    "| van | 200 | 100 | 25 |"
   ]
  },
  {
   "cell_type": "code",
   "execution_count": 1,
   "metadata": {},
   "outputs": [],
   "source": [
    "# import package\n",
    "from gurobipy import *"
   ]
  },
  {
   "cell_type": "markdown",
   "metadata": {},
   "source": [
    "Write out the objective function using the following decision variables:\n",
    "- S = subcompact\n",
    "- C = compact \n",
    "- I = intermediate\n",
    "- L = luxury\n",
    "- T = truck\n",
    "- V = van\n",
    "\n",
    "Maximize: $Y = 150S + 225C + 250I + 500L + 400T + 200V$\n",
    "\n",
    "***\n",
    "\n",
    "Total Annual Capacity constraint:\n",
    "\n",
    "$S + C + I + L + T + V <= 1200000$\n",
    "\n",
    "***\n",
    "\n",
    "Subcompacts and compacts total capacity constraint:\n",
    "\n",
    "$S + C <= 620000$\n",
    "\n",
    "***\n",
    "\n",
    "Corporate average fuel economy constraint:\n",
    "\n",
    "$13S + 7C - 12I - 15L - 7T - 2V >= 0 $"
   ]
  },
  {
   "cell_type": "code",
   "execution_count": 3,
   "metadata": {},
   "outputs": [
    {
     "name": "stdout",
     "output_type": "stream",
     "text": [
      "Gurobi Optimizer version 9.1.1 build v9.1.1rc0 (win64)\n",
      "Thread count: 4 physical cores, 8 logical processors, using up to 8 threads\n",
      "Optimize a model with 18 rows, 6 columns and 34 nonzeros\n",
      "Model fingerprint: 0x8fc6c118\n",
      "Coefficient statistics:\n",
      "  Matrix range     [1e+00, 2e+01]\n",
      "  Objective range  [2e+02, 5e+02]\n",
      "  Bounds range     [0e+00, 0e+00]\n",
      "  RHS range        [1e+05, 1e+06]\n",
      "Presolve removed 12 rows and 0 columns\n",
      "Presolve time: 0.01s\n",
      "Presolved: 6 rows, 6 columns, 22 nonzeros\n",
      "\n",
      "Iteration    Objective       Primal Inf.    Dual Inf.      Time\n",
      "       0    6.0000000e+08   2.050000e+06   0.000000e+00      0s\n",
      "       6    3.5800000e+08   0.000000e+00   0.000000e+00      0s\n",
      "\n",
      "Solved in 6 iterations and 0.02 seconds\n",
      "Optimal objective  3.580000000e+08\n"
     ]
    }
   ],
   "source": [
    "# create model object\n",
    "m = Model('blending model')\n",
    "\n",
    "# create variables\n",
    "s = m.addVar(vtype=GRB.CONTINUOUS, name=\"Subcompact\")\n",
    "c = m.addVar(vtype=GRB.CONTINUOUS, name=\"Compact\")\n",
    "i = m.addVar(vtype=GRB.CONTINUOUS, name=\"intermediate\")\n",
    "l = m.addVar(vtype=GRB.CONTINUOUS, name=\"Luxury\")\n",
    "t = m.addVar(vtype=GRB.CONTINUOUS, name=\"Truck\")\n",
    "v = m.addVar(vtype=GRB.CONTINUOUS, name=\"Van\")\n",
    "\n",
    "# set objective\n",
    "m.setObjective(150*s  + 225*c + 250*i + 500*l + 400*t + 200*v, GRB.MAXIMIZE)\n",
    "\n",
    "\"\"\" Add constraints including implicit\"\"\"\n",
    "\n",
    "# capacity constraints\n",
    "m.addConstr(s + c+ i + l + t + v <= 1200000, name='Annual capacity')\n",
    "m.addConstr(s + c  <= 620000, name='subcompact compact')\n",
    "m.addConstr(i + l <= 400000, name='Intermediate Luxury')\n",
    "m.addConstr(t + v <= 275000, name='Truck Van')\n",
    "m.addConstr( s + c -i -l >= 0, name='cars')\n",
    "\n",
    "# average fuel economy constraint\n",
    "m.addConstr(13*s + 7*c - 12*i - 15*l - 7*t - 2*v >= 0, name='mileage')\n",
    "\n",
    "# market potential constraints\n",
    "m.addConstr(s <= 600000, name='Subcompact market')\n",
    "m.addConstr(c <= 400000, name='Compact market')\n",
    "m.addConstr(i <= 300000, name='Intermediate market')\n",
    "m.addConstr(l <= 225000, name='Luxury market')\n",
    "m.addConstr(t <= 325000, name='Truck market')\n",
    "m.addConstr(v <= 100000, name='Van market')\n",
    "\n",
    "# implicit constraints\n",
    "m.addConstr(s >=0, name='Zero_Subcompact')\n",
    "m.addConstr(c >=0, name='Zero_Compact')\n",
    "m.addConstr(i >=0, name='Zero_Intermediate')\n",
    "m.addConstr(l >=0, name='Zero_Luxury')\n",
    "m.addConstr(t >=0, name='Zero_Trucks')\n",
    "m.addConstr(v >=0, name='Zero_Van')\n",
    "\n",
    "# Optimize\n",
    "m.optimize()"
   ]
  },
  {
   "cell_type": "code",
   "execution_count": 4,
   "metadata": {
    "scrolled": true
   },
   "outputs": [
    {
     "name": "stdout",
     "output_type": "stream",
     "text": [
      "Convergence Status: 2\n",
      "Subcompact: 320000\n",
      "Compact: 300000\n",
      "intermediate: 80000\n",
      "Luxury: 225000\n",
      "Truck: 275000\n",
      "Van: 0\n",
      "Obj: 3.58e+08\n"
     ]
    }
   ],
   "source": [
    "# Convergence status\n",
    "# we want 2, which means model was solved to optimality (subject to tolerances); optimal solution is available\n",
    "print('Convergence Status:', m.status)\n",
    "\n",
    "# Print results for each constraint\n",
    "for v in m.getVars():\n",
    "    print('%s: %g' % (v.varName, v.x))\n",
    "    \n",
    "# Print result for Objective using optimized constraints\n",
    "print('Obj: %g' % m.objVal)"
   ]
  },
  {
   "cell_type": "markdown",
   "metadata": {},
   "source": [
    "`Binding constraints` are when the right-hand side of the constraint equals the left-hand side. In other words, the value of the constraint when the solution values are used equals the original value of the parameter set by the problem."
   ]
  },
  {
   "cell_type": "code",
   "execution_count": 5,
   "metadata": {},
   "outputs": [
    {
     "name": "stdout",
     "output_type": "stream",
     "text": [
      "Annual capacity: 0\n",
      "subcompact compact: 0\n",
      "Intermediate Luxury: 95000\n",
      "Truck Van: 0\n",
      "cars: -315000\n",
      "mileage: 0\n",
      "Subcompact market: 280000\n",
      "Compact market: 100000\n",
      "Intermediate market: 220000\n",
      "Luxury market: 0\n",
      "Truck market: 50000\n",
      "Van market: 100000\n",
      "Zero_Subcompact: -320000\n",
      "Zero_Compact: -300000\n",
      "Zero_Intermediate: -80000\n",
      "Zero_Luxury: -225000\n",
      "Zero_Trucks: -275000\n",
      "Zero_Van: -0\n"
     ]
    },
    {
     "data": {
      "text/plain": [
       "['Annual capacity',\n",
       " 'subcompact compact',\n",
       " 'Truck Van',\n",
       " 'mileage',\n",
       " 'Luxury market',\n",
       " 'Zero_Van']"
      ]
     },
     "execution_count": 5,
     "metadata": {},
     "output_type": "execute_result"
    }
   ],
   "source": [
    "# list to store binding vars\n",
    "binding = []\n",
    "\n",
    "# see slack values for vars\n",
    "for c in m.getConstrs():\n",
    "    print('%s: %g' % (c.ConstrName, c.slack))\n",
    "    if c.slack==0:\n",
    "        binding.append(c.ConstrName)\n",
    "\n",
    "binding"
   ]
  },
  {
   "cell_type": "markdown",
   "metadata": {},
   "source": [
    "<b>NOTE:</b> if the dual (shadow) price for a constraint is 0, then the constraint is NOT binding."
   ]
  },
  {
   "cell_type": "code",
   "execution_count": 6,
   "metadata": {},
   "outputs": [
    {
     "name": "stdout",
     "output_type": "stream",
     "text": [
      "\n",
      "  Constraint           Pi \n",
      "-------------------------\n",
      "Annual capacity          100 \n",
      "subcompact compact        212.5 \n",
      "   Truck Van        212.5 \n",
      "     mileage        -12.5 \n",
      "Luxury market        212.5 \n"
     ]
    }
   ],
   "source": [
    "# Get shadow prices\n",
    "m.printAttr('Pi')"
   ]
  },
  {
   "cell_type": "markdown",
   "metadata": {},
   "source": [
    "`Reduced cost` is the amount by which an objective function coefficient would have to improve before it would be possible for a corresponding variable to assume a positive value in the optimal solution."
   ]
  },
  {
   "cell_type": "code",
   "execution_count": 7,
   "metadata": {
    "scrolled": true
   },
   "outputs": [
    {
     "name": "stdout",
     "output_type": "stream",
     "text": [
      "\n",
      "    Variable           Rc \n",
      "-------------------------\n",
      "         Van       -137.5 \n"
     ]
    }
   ],
   "source": [
    "# Ger reduce cost\n",
    "m.printAttr('Rc')"
   ]
  }
 ],
 "metadata": {
  "kernelspec": {
   "display_name": "Python 3",
   "language": "python",
   "name": "python3"
  },
  "language_info": {
   "codemirror_mode": {
    "name": "ipython",
    "version": 3
   },
   "file_extension": ".py",
   "mimetype": "text/x-python",
   "name": "python",
   "nbconvert_exporter": "python",
   "pygments_lexer": "ipython3",
   "version": "3.7.6"
  }
 },
 "nbformat": 4,
 "nbformat_minor": 4
}
